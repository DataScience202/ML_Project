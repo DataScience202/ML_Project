{
  "nbformat": 4,
  "nbformat_minor": 0,
  "metadata": {
    "colab": {
      "provenance": [],
      "mount_file_id": "1L4vsLwVRjsnsrgphebnlHuFb2S7v5t40",
      "authorship_tag": "ABX9TyPHwTqdZkkzx+sjXr76cQHN",
      "include_colab_link": true
    },
    "kernelspec": {
      "name": "python3",
      "display_name": "Python 3"
    },
    "language_info": {
      "name": "python"
    }
  },
  "cells": [
    {
      "cell_type": "markdown",
      "metadata": {
        "id": "view-in-github",
        "colab_type": "text"
      },
      "source": [
        "<a href=\"https://colab.research.google.com/github/DataScience202/ML_Project/blob/main/Chart_CNN.ipynb\" target=\"_parent\"><img src=\"https://colab.research.google.com/assets/colab-badge.svg\" alt=\"Open In Colab\"/></a>"
      ]
    },
    {
      "cell_type": "code",
      "execution_count": 115,
      "metadata": {
        "id": "q-KSEZkyY1L9"
      },
      "outputs": [],
      "source": [
        "import numpy as np\n",
        "import tensorflow as tf\n",
        "from tensorflow import keras\n",
        "from keras.models import Sequential\n",
        "import pandas as pd\n",
        "from matplotlib import pyplot as plt\n",
        "%matplotlib inline\n",
        "import os\n",
        "import cv2\n",
        "from keras.layers import Dense, Conv2D, MaxPooling2D, Flatten, GlobalAveragePooling2D\n",
        "from PIL import Image\n",
        "from sklearn.preprocessing import LabelEncoder\n",
        "from sklearn.metrics import confusion_matrix, classification_report"
      ]
    },
    {
      "cell_type": "code",
      "source": [
        "# Define the paths to your image and csv folders\n",
        "train_val_dir = \"/content/drive/MyDrive/charts/charts/train_val\"\n",
        "test_dir = \"/content/drive/MyDrive/charts/charts/test\"\n",
        "train_path_labels = \"/content/drive/MyDrive/charts/charts/train_val.csv\"\n",
        "train_val_labels = pd.read_csv(train_path_labels)\n",
        "train_val_labels = pd.read_csv(train_path_labels)\n",
        "images = []\n",
        "labels = []\n",
        "for filename in os.listdir(train_val_dir):\n",
        "    if filename.endswith('.png'):\n",
        "        # Load the images and resize them to (128, 128) with 3 color channels\n",
        "        img = cv2.imread(os.path.join(train_val_dir, filename))\n",
        "        img = cv2.resize(img, (128, 128))\n",
        "        img = cv2.cvtColor(img, cv2.COLOR_BGR2RGB)\n",
        "        img_array = np.array(img)\n",
        "        # Append the array to the list of images\n",
        "        images.append(img_array)\n",
        "        labels.append(filename)"
      ],
      "metadata": {
        "id": "flOXzYrpY7KJ"
      },
      "execution_count": 116,
      "outputs": []
    },
    {
      "cell_type": "code",
      "source": [
        "# Convert the string labels to numerical labels\n",
        "le = LabelEncoder()\n",
        "labels = le.fit_transform(labels)"
      ],
      "metadata": {
        "id": "DAziC3B0drRK"
      },
      "execution_count": 117,
      "outputs": []
    },
    {
      "cell_type": "code",
      "source": [
        "# Convert the lists to NumPy arrays\n",
        "images = np.array(images)\n",
        "labels = np.array(labels)\n",
        "# Save the arrays in NumPy format\n",
        "np.save('x_train.npy', images)\n",
        "np.save('y_train.npy', labels)\n",
        "x_train = np.load('x_train.npy')\n",
        "y_train = np.load('y_train.npy')"
      ],
      "metadata": {
        "id": "Z7-haJXQdt_S"
      },
      "execution_count": 118,
      "outputs": []
    },
    {
      "cell_type": "code",
      "source": [
        "x_train.shape"
      ],
      "metadata": {
        "colab": {
          "base_uri": "https://localhost:8080/"
        },
        "id": "35Gbaj6wrEDk",
        "outputId": "6d8dbc86-3b02-40a7-ce1f-6c43b5079bfc"
      },
      "execution_count": 119,
      "outputs": [
        {
          "output_type": "execute_result",
          "data": {
            "text/plain": [
              "(1009, 128, 128, 3)"
            ]
          },
          "metadata": {},
          "execution_count": 119
        }
      ]
    },
    {
      "cell_type": "code",
      "source": [
        "\n",
        "x_train[:5]\n",
        "y_train[:5]\n"
      ],
      "metadata": {
        "colab": {
          "base_uri": "https://localhost:8080/"
        },
        "id": "JGaOyX0lsf-2",
        "outputId": "778c1f36-032d-402b-eefa-3685dd65f2ba"
      },
      "execution_count": 124,
      "outputs": [
        {
          "output_type": "execute_result",
          "data": {
            "text/plain": [
              "array([26, 24, 23, 15, 19])"
            ]
          },
          "metadata": {},
          "execution_count": 124
        }
      ]
    },
    {
      "cell_type": "code",
      "source": [
        "images = []\n",
        "labels = []\n",
        "for filename in os.listdir(test_dir):\n",
        "    if filename.endswith('.png'):\n",
        "        # Load the images and resize them to (128, 128) with 3 color channels\n",
        "        img = cv2.imread(os.path.join(test_dir, filename))\n",
        "        img = cv2.resize(img, (128, 128))\n",
        "        img = cv2.cvtColor(img, cv2.COLOR_BGR2RGB)\n",
        "        img_array = np.array(img)\n",
        "        # Append the array to the list of images\n",
        "        images.append(img_array)\n",
        "        labels.append(filename)"
      ],
      "metadata": {
        "id": "9bVrJaDddvQ4"
      },
      "execution_count": 125,
      "outputs": []
    },
    {
      "cell_type": "code",
      "source": [
        "# Convert the string labels to numerical labels\n",
        "le = LabelEncoder()\n",
        "labels = le.fit_transform(labels)\n",
        "\n",
        "images = np.array(images)\n",
        "labels = np.array(labels)\n",
        "# Save the arrays in NumPy format\n",
        "np.save('x_test.npy', images)\n",
        "np.save('y_test.npy', labels)\n",
        "x_test = np.load('x_test.npy')\n",
        "y_test = np.load('y_test.npy')"
      ],
      "metadata": {
        "id": "FW2MYGM9d4Lq"
      },
      "execution_count": 126,
      "outputs": []
    },
    {
      "cell_type": "code",
      "source": [
        "x_test.shape\n",
        "\n",
        "\n"
      ],
      "metadata": {
        "colab": {
          "base_uri": "https://localhost:8080/"
        },
        "id": "Be74pIECqzij",
        "outputId": "8bd8f8aa-fed4-44da-ad4b-8fb83e6a14d0"
      },
      "execution_count": 127,
      "outputs": [
        {
          "output_type": "execute_result",
          "data": {
            "text/plain": [
              "(50, 128, 128, 3)"
            ]
          },
          "metadata": {},
          "execution_count": 127
        }
      ]
    },
    {
      "cell_type": "code",
      "source": [
        "# Check the images loaded\n",
        "plt.figure(figsize = (10,2))\n",
        "plt.imshow(x_train[10])\n",
        "plt.imshow(x_train[208])\n",
        "plt.imshow(x_train[444])\n"
      ],
      "metadata": {
        "colab": {
          "base_uri": "https://localhost:8080/",
          "height": 236
        },
        "id": "XyYkil7ed8AY",
        "outputId": "71a09422-2383-491c-b6ef-5fed74513f65"
      },
      "execution_count": 128,
      "outputs": [
        {
          "output_type": "execute_result",
          "data": {
            "text/plain": [
              "<matplotlib.image.AxesImage at 0x7efc2b482860>"
            ]
          },
          "metadata": {},
          "execution_count": 128
        },
        {
          "output_type": "display_data",
          "data": {
            "text/plain": [
              "<Figure size 1000x200 with 1 Axes>"
            ],
            "image/png": "[encoded data removed]"
          },
          "metadata": {}
        }
      ]
    },
    {
      "cell_type": "code",
      "source": [
        "# Define some classes from the images we have observed\n",
        "image_classes = ['line', 'dot_line', 'hbar_categorical', 'vbar_categorical', 'pie']"
      ],
      "metadata": {
        "id": "s46v4-uFjBFd"
      },
      "execution_count": 129,
      "outputs": []
    },
    {
      "cell_type": "code",
      "source": [
        "# Map the categories to the labels array i.e y_train\n",
        "label_map = {'line': 0, 'dot_line': 1, 'hbar_categorical': 2, 'vbar_categorical': 3, 'pie': 4}\n",
        "y_train = np.array([label_map[label] for label in train_val_labels['type']])"
      ],
      "metadata": {
        "id": "CU_m8_w0d_yR"
      },
      "execution_count": 130,
      "outputs": []
    },
    {
      "cell_type": "code",
      "source": [
        "y_train\n",
        "y_train.shape\n",
        "y_test.shape\n"
      ],
      "metadata": {
        "colab": {
          "base_uri": "https://localhost:8080/"
        },
        "id": "U9XtBHLos9B4",
        "outputId": "8c059f1a-2350-4975-eb3d-67337f8629f5"
      },
      "execution_count": 131,
      "outputs": [
        {
          "output_type": "execute_result",
          "data": {
            "text/plain": [
              "(50,)"
            ]
          },
          "metadata": {},
          "execution_count": 131
        }
      ]
    },
    {
      "cell_type": "code",
      "source": [
        "def image_sample(x, y, index):\n",
        " plt.figure(figsize = (10,2))\n",
        " plt.imshow(x[index])\n",
        "# image_label = train_val_labels.iloc[index]['type']\n",
        "# plt.xlabel(image_label)\n",
        " plt.xlabel(image_classes[y[index]])\n"
      ],
      "metadata": {
        "id": "u-pvdMCktF_2"
      },
      "execution_count": 133,
      "outputs": []
    },
    {
      "cell_type": "code",
      "source": [
        "image_sample(x_train,y_train,0)\n",
        "image_sample(x_train,y_train,208)\n",
        "image_sample(x_train,y_train,444)"
      ],
      "metadata": {
        "colab": {
          "base_uri": "https://localhost:8080/",
          "height": 683
        },
        "id": "ehvNr6shtJaw",
        "outputId": "49d72d9e-30c9-421f-b7b1-a1507db2cdfa"
      },
      "execution_count": 134,
      "outputs": [
        {
          "output_type": "display_data",
          "data": {
            "text/plain": [
              "<Figure size 1000x200 with 1 Axes>"
            ],
            "image/png": "[encoded data removed]"
          },
          "metadata": {}
        },
        {
          "output_type": "display_data",
          "data": {
            "text/plain": [
              "<Figure size 1000x200 with 1 Axes>"
            ],
            "image/png": "[encoded data removed]"
          },
          "metadata": {}
        },
        {
          "output_type": "display_data",
          "data": {
            "text/plain": [
              "<Figure size 1000x200 with 1 Axes>"
            ],
            "image/png": "[encoded data removed]"
          },
          "metadata": {}
        }
      ]
    },
    {
      "cell_type": "code",
      "source": [
        "# Normalize pixel values to [0, 1]\n",
        "x_train = x_train / 255\n",
        "x_test = x_test / 255\n",
        "\n",
        "x_test.shape\n"
      ],
      "metadata": {
        "colab": {
          "base_uri": "https://localhost:8080/"
        },
        "id": "h_f1X18peGSs",
        "outputId": "2c93b304-940c-4593-fbda-952aaeb636b7"
      },
      "execution_count": 135,
      "outputs": [
        {
          "output_type": "execute_result",
          "data": {
            "text/plain": [
              "(50, 128, 128, 3)"
            ]
          },
          "metadata": {},
          "execution_count": 135
        }
      ]
    },
    {
      "cell_type": "code",
      "source": [
        "y_train_index = train_val_labels['image_index']\n",
        "y_train_type = train_val_labels['type']"
      ],
      "metadata": {
        "id": "VbWB2i3AtdNF"
      },
      "execution_count": 136,
      "outputs": []
    },
    {
      "cell_type": "code",
      "source": [
        "y_train_type[:5]\n"
      ],
      "metadata": {
        "colab": {
          "base_uri": "https://localhost:8080/"
        },
        "id": "KDyG9TtXtgSK",
        "outputId": "6800f4d0-41f6-4628-b1ee-a120e8d38a9b"
      },
      "execution_count": 137,
      "outputs": [
        {
          "output_type": "execute_result",
          "data": {
            "text/plain": [
              "0    vbar_categorical\n",
              "1    vbar_categorical\n",
              "2    vbar_categorical\n",
              "3    vbar_categorical\n",
              "4    vbar_categorical\n",
              "Name: type, dtype: object"
            ]
          },
          "metadata": {},
          "execution_count": 137
        }
      ]
    },
    {
      "cell_type": "code",
      "source": [
        "x_train = x_train[:1000]\n",
        "y_train = y_train[:1000]\n",
        "\n"
      ],
      "metadata": {
        "id": "3mAl29mevD5Z"
      },
      "execution_count": 141,
      "outputs": []
    },
    {
      "cell_type": "code",
      "source": [
        "# Define the model architecture\n",
        "model = Sequential([\n",
        " Flatten(input_shape=(128,128,3)),\n",
        " Dense(3000, activation='relu'),\n",
        " Dense(1000, activation='relu'),\n",
        " Dense(5, activation='softmax')\n",
        "])"
      ],
      "metadata": {
        "id": "t5Cx3XHxjPlw"
      },
      "execution_count": 142,
      "outputs": []
    },
    {
      "cell_type": "code",
      "source": [
        "# Compile the model\n",
        "model.compile(optimizer='adam', loss='sparse_categorical_crossentropy', metrics=['accuracy'])\n",
        "model.summary()"
      ],
      "metadata": {
        "colab": {
          "base_uri": "https://localhost:8080/"
        },
        "id": "Xa6PD5sueLY3",
        "outputId": "9d70f83e-a90f-4d99-b922-d3877bd48b60"
      },
      "execution_count": 143,
      "outputs": [
        {
          "output_type": "stream",
          "name": "stdout",
          "text": [
            "Model: \"sequential_9\"\n",
            "_________________________________________________________________\n",
            " Layer (type)                Output Shape              Param #   \n",
            "=================================================================\n",
            " flatten_6 (Flatten)         (None, 49152)             0         \n",
            "                                                                 \n",
            " dense_21 (Dense)            (None, 3000)              147459000 \n",
            "                                                                 \n",
            " dense_22 (Dense)            (None, 1000)              3001000   \n",
            "                                                                 \n",
            " dense_23 (Dense)            (None, 5)                 5005      \n",
            "                                                                 \n",
            "=================================================================\n",
            "Total params: 150,465,005\n",
            "Trainable params: 150,465,005\n",
            "Non-trainable params: 0\n",
            "_________________________________________________________________\n"
          ]
        }
      ]
    },
    {
      "cell_type": "code",
      "source": [
        "# Train the model\n",
        "history = model.fit(x_train, y_train, epochs=10)"
      ],
      "metadata": {
        "colab": {
          "base_uri": "https://localhost:8080/"
        },
        "id": "qDwa3CxNjkxk",
        "outputId": "70a448b5-ffd6-45a3-e9fc-2e14af1a15bb"
      },
      "execution_count": 144,
      "outputs": [
        {
          "output_type": "stream",
          "name": "stdout",
          "text": [
            "Epoch 1/10\n",
            "32/32 [==============================] - 88s 3s/step - loss: 96.1640 - accuracy: 0.1950\n",
            "Epoch 2/10\n",
            "32/32 [==============================] - 86s 3s/step - loss: 6.5725 - accuracy: 0.2320\n",
            "Epoch 3/10\n",
            "32/32 [==============================] - 87s 3s/step - loss: 1.5859 - accuracy: 0.3820\n",
            "Epoch 4/10\n",
            "32/32 [==============================] - 85s 3s/step - loss: 1.2915 - accuracy: 0.4600\n",
            "Epoch 5/10\n",
            "32/32 [==============================] - 83s 3s/step - loss: 1.3941 - accuracy: 0.4210\n",
            "Epoch 6/10\n",
            "32/32 [==============================] - 84s 3s/step - loss: 1.3392 - accuracy: 0.4360\n",
            "Epoch 7/10\n",
            "32/32 [==============================] - 87s 3s/step - loss: 1.2296 - accuracy: 0.4690\n",
            "Epoch 8/10\n",
            "32/32 [==============================] - 88s 3s/step - loss: 1.1921 - accuracy: 0.5080\n",
            "Epoch 9/10\n",
            "32/32 [==============================] - 85s 3s/step - loss: 1.2213 - accuracy: 0.4970\n",
            "Epoch 10/10\n",
            "32/32 [==============================] - 85s 3s/step - loss: 1.2001 - accuracy: 0.4730\n"
          ]
        }
      ]
    },
    {
      "cell_type": "code",
      "source": [
        "\n",
        "# Split the training images and labels into training and validation sets\n",
        "from sklearn.model_selection import train_test_split\n",
        "x_train, x_test, y_train, y_test = train_test_split(x_train, y_train, test_size=0.2, random_state=42)\n",
        "\n"
      ],
      "metadata": {
        "id": "3IbGPNqXoBk8"
      },
      "execution_count": 147,
      "outputs": []
    },
    {
      "cell_type": "code",
      "source": [
        "model.evaluate(x_test,y_test)"
      ],
      "metadata": {
        "colab": {
          "base_uri": "https://localhost:8080/"
        },
        "id": "jknyEJpVy8LY",
        "outputId": "25a804d5-f4ab-4b18-f226-1e7503255fd4"
      },
      "execution_count": 148,
      "outputs": [
        {
          "output_type": "stream",
          "name": "stdout",
          "text": [
            "7/7 [==============================] - 2s 243ms/step - loss: 1.2839 - accuracy: 0.3750\n"
          ]
        },
        {
          "output_type": "execute_result",
          "data": {
            "text/plain": [
              "[1.283949613571167, 0.375]"
            ]
          },
          "metadata": {},
          "execution_count": 148
        }
      ]
    },
    {
      "cell_type": "code",
      "source": [
        "y_pred = model.predict(x_test)\n",
        "y_pred\n",
        "y_pred_classes = [np.argmax(ele) for ele in y_pred]\n"
      ],
      "metadata": {
        "colab": {
          "base_uri": "https://localhost:8080/"
        },
        "id": "OisomghYzFP9",
        "outputId": "ea3d8f07-5503-40b1-b95f-6f60e13b7edc"
      },
      "execution_count": 149,
      "outputs": [
        {
          "output_type": "stream",
          "name": "stdout",
          "text": [
            "7/7 [==============================] - 2s 247ms/step\n"
          ]
        }
      ]
    },
    {
      "cell_type": "code",
      "source": [
        "print(\"Train Images Shape:\", x_train.shape)\n",
        "print(\"Train Labels Shape:\", y_train.shape)\n",
        "print(\"Test Images Shape:\", x_test.shape)\n",
        "print(\"Test Labels Shape:\", y_test.shape)\n"
      ],
      "metadata": {
        "colab": {
          "base_uri": "https://localhost:8080/"
        },
        "id": "18bsFq07zJIi",
        "outputId": "f455d870-78a4-4593-ecb2-b56b166ecd7a"
      },
      "execution_count": 150,
      "outputs": [
        {
          "output_type": "stream",
          "name": "stdout",
          "text": [
            "Train Images Shape: (800, 128, 128, 3)\n",
            "Train Labels Shape: (800,)\n",
            "Test Images Shape: (200, 128, 128, 3)\n",
            "Test Labels Shape: (200,)\n"
          ]
        }
      ]
    },
    {
      "cell_type": "code",
      "source": [
        "cnn_model = Sequential([\n",
        " Conv2D(filters=16 ,kernel_size=(3,3), activation='relu', input_shape=(128,128,3)),\n",
        " MaxPooling2D(pool_size=(2,2)),\n",
        " Conv2D(32, (3,3), activation='relu'),\n",
        " MaxPooling2D(pool_size=(2,2)),\n",
        " Conv2D(64, (3,3), activation='relu'),\n",
        " MaxPooling2D(pool_size=(2,2)),\n",
        " Flatten(),\n",
        " Dense(128, activation='relu'),\n",
        " Dense(5, activation='softmax')\n",
        "])\n",
        "# Compile the model\n",
        "cnn_model.compile(optimizer='adam', loss='sparse_categorical_crossentropy', metrics=['accuracy'])\n",
        "# Train the model\n",
        "history = cnn_model.fit(x_train, y_train, batch_size=1000, epochs=50,validation_data=(x_test, y_test))\n",
        "# Plot the obtained loss\n",
        "plt.plot(history.history['loss'])\n",
        "plt.plot(history.history['val_loss'])\n",
        "plt.title('Model Loss')\n",
        "plt.ylabel('Loss')\n",
        "plt.xlabel('Epoch')\n",
        "plt.legend(['Train', 'Validation'], loc='upper right')\n",
        "plt.show()"
      ],
      "metadata": {
        "colab": {
          "base_uri": "https://localhost:8080/",
          "height": 1000
        },
        "id": "kquIWaUCzUZs",
        "outputId": "fcddf1e0-7d4d-483a-9a6d-2eae3a2440c8"
      },
      "execution_count": 151,
      "outputs": [
        {
          "output_type": "stream",
          "name": "stdout",
          "text": [
            "Epoch 1/50\n",
            "1/1 [==============================] - 17s 17s/step - loss: 1.6270 - accuracy: 0.2025 - val_loss: 2.7217 - val_accuracy: 0.1650\n",
            "Epoch 2/50\n",
            "1/1 [==============================] - 14s 14s/step - loss: 2.4643 - accuracy: 0.2087 - val_loss: 1.8164 - val_accuracy: 0.2300\n",
            "Epoch 3/50\n",
            "1/1 [==============================] - 15s 15s/step - loss: 1.7620 - accuracy: 0.2087 - val_loss: 1.6334 - val_accuracy: 0.1900\n",
            "Epoch 4/50\n",
            "1/1 [==============================] - 15s 15s/step - loss: 1.6610 - accuracy: 0.2025 - val_loss: 1.5967 - val_accuracy: 0.3500\n",
            "Epoch 5/50\n",
            "1/1 [==============================] - 14s 14s/step - loss: 1.6244 - accuracy: 0.3413 - val_loss: 1.5652 - val_accuracy: 0.2650\n",
            "Epoch 6/50\n",
            "1/1 [==============================] - 14s 14s/step - loss: 1.5865 - accuracy: 0.2338 - val_loss: 1.5452 - val_accuracy: 0.2650\n",
            "Epoch 7/50\n",
            "1/1 [==============================] - 17s 17s/step - loss: 1.5530 - accuracy: 0.2250 - val_loss: 1.5298 - val_accuracy: 0.3000\n",
            "Epoch 8/50\n",
            "1/1 [==============================] - 15s 15s/step - loss: 1.5184 - accuracy: 0.2900 - val_loss: 1.5091 - val_accuracy: 0.3200\n",
            "Epoch 9/50\n",
            "1/1 [==============================] - 17s 17s/step - loss: 1.4807 - accuracy: 0.4187 - val_loss: 1.4863 - val_accuracy: 0.3800\n",
            "Epoch 10/50\n",
            "1/1 [==============================] - 15s 15s/step - loss: 1.4433 - accuracy: 0.4363 - val_loss: 1.4696 - val_accuracy: 0.4150\n",
            "Epoch 11/50\n",
            "1/1 [==============================] - 15s 15s/step - loss: 1.4061 - accuracy: 0.4775 - val_loss: 1.4452 - val_accuracy: 0.4300\n",
            "Epoch 12/50\n",
            "1/1 [==============================] - 15s 15s/step - loss: 1.3676 - accuracy: 0.5063 - val_loss: 1.4212 - val_accuracy: 0.4600\n",
            "Epoch 13/50\n",
            "1/1 [==============================] - 14s 14s/step - loss: 1.3331 - accuracy: 0.5263 - val_loss: 1.3889 - val_accuracy: 0.4850\n",
            "Epoch 14/50\n",
            "1/1 [==============================] - 14s 14s/step - loss: 1.2923 - accuracy: 0.5400 - val_loss: 1.3575 - val_accuracy: 0.4800\n",
            "Epoch 15/50\n",
            "1/1 [==============================] - 14s 14s/step - loss: 1.2519 - accuracy: 0.5375 - val_loss: 1.3236 - val_accuracy: 0.4950\n",
            "Epoch 16/50\n",
            "1/1 [==============================] - 14s 14s/step - loss: 1.2148 - accuracy: 0.5300 - val_loss: 1.2779 - val_accuracy: 0.5300\n",
            "Epoch 17/50\n",
            "1/1 [==============================] - 14s 14s/step - loss: 1.1762 - accuracy: 0.5625 - val_loss: 1.2452 - val_accuracy: 0.5550\n",
            "Epoch 18/50\n",
            "1/1 [==============================] - 14s 14s/step - loss: 1.1431 - accuracy: 0.5638 - val_loss: 1.2239 - val_accuracy: 0.5700\n",
            "Epoch 19/50\n",
            "1/1 [==============================] - 14s 14s/step - loss: 1.1145 - accuracy: 0.5650 - val_loss: 1.2016 - val_accuracy: 0.5450\n",
            "Epoch 20/50\n",
            "1/1 [==============================] - 15s 15s/step - loss: 1.0874 - accuracy: 0.5688 - val_loss: 1.1972 - val_accuracy: 0.5350\n",
            "Epoch 21/50\n",
            "1/1 [==============================] - 14s 14s/step - loss: 1.0615 - accuracy: 0.5663 - val_loss: 1.2110 - val_accuracy: 0.5350\n",
            "Epoch 22/50\n",
            "1/1 [==============================] - 15s 15s/step - loss: 1.0389 - accuracy: 0.5763 - val_loss: 1.2053 - val_accuracy: 0.5200\n",
            "Epoch 23/50\n",
            "1/1 [==============================] - 14s 14s/step - loss: 1.0135 - accuracy: 0.5763 - val_loss: 1.1800 - val_accuracy: 0.5300\n",
            "Epoch 24/50\n",
            "1/1 [==============================] - 14s 14s/step - loss: 0.9842 - accuracy: 0.5788 - val_loss: 1.1558 - val_accuracy: 0.5300\n",
            "Epoch 25/50\n",
            "1/1 [==============================] - 14s 14s/step - loss: 0.9568 - accuracy: 0.5800 - val_loss: 1.1447 - val_accuracy: 0.5500\n",
            "Epoch 26/50\n",
            "1/1 [==============================] - 15s 15s/step - loss: 0.9351 - accuracy: 0.6112 - val_loss: 1.1608 - val_accuracy: 0.5450\n",
            "Epoch 27/50\n",
            "1/1 [==============================] - 14s 14s/step - loss: 0.9196 - accuracy: 0.6162 - val_loss: 1.2309 - val_accuracy: 0.4700\n",
            "Epoch 28/50\n",
            "1/1 [==============================] - 14s 14s/step - loss: 0.9844 - accuracy: 0.5638 - val_loss: 1.2662 - val_accuracy: 0.5200\n",
            "Epoch 29/50\n",
            "1/1 [==============================] - 15s 15s/step - loss: 0.9718 - accuracy: 0.5863 - val_loss: 1.1606 - val_accuracy: 0.5600\n",
            "Epoch 30/50\n",
            "1/1 [==============================] - 14s 14s/step - loss: 0.8857 - accuracy: 0.6413 - val_loss: 1.1625 - val_accuracy: 0.5250\n",
            "Epoch 31/50\n",
            "1/1 [==============================] - 14s 14s/step - loss: 0.9060 - accuracy: 0.6100 - val_loss: 1.1585 - val_accuracy: 0.5500\n",
            "Epoch 32/50\n",
            "1/1 [==============================] - 15s 15s/step - loss: 0.8840 - accuracy: 0.6288 - val_loss: 1.1718 - val_accuracy: 0.5850\n",
            "Epoch 33/50\n",
            "1/1 [==============================] - 15s 15s/step - loss: 0.8584 - accuracy: 0.6475 - val_loss: 1.2030 - val_accuracy: 0.5550\n",
            "Epoch 34/50\n",
            "1/1 [==============================] - 17s 17s/step - loss: 0.8691 - accuracy: 0.5987 - val_loss: 1.1576 - val_accuracy: 0.5550\n",
            "Epoch 35/50\n",
            "1/1 [==============================] - 15s 15s/step - loss: 0.8343 - accuracy: 0.6325 - val_loss: 1.1569 - val_accuracy: 0.5750\n",
            "Epoch 36/50\n",
            "1/1 [==============================] - 15s 15s/step - loss: 0.8420 - accuracy: 0.6762 - val_loss: 1.1597 - val_accuracy: 0.5700\n",
            "Epoch 37/50\n",
            "1/1 [==============================] - 15s 15s/step - loss: 0.8212 - accuracy: 0.6800 - val_loss: 1.1745 - val_accuracy: 0.5900\n",
            "Epoch 38/50\n",
            "1/1 [==============================] - 15s 15s/step - loss: 0.7967 - accuracy: 0.6750 - val_loss: 1.1903 - val_accuracy: 0.5950\n",
            "Epoch 39/50\n",
            "1/1 [==============================] - 15s 15s/step - loss: 0.7960 - accuracy: 0.6637 - val_loss: 1.1510 - val_accuracy: 0.5950\n",
            "Epoch 40/50\n",
            "1/1 [==============================] - 15s 15s/step - loss: 0.7707 - accuracy: 0.6812 - val_loss: 1.1303 - val_accuracy: 0.6150\n",
            "Epoch 41/50\n",
            "1/1 [==============================] - 14s 14s/step - loss: 0.7622 - accuracy: 0.6913 - val_loss: 1.1362 - val_accuracy: 0.5950\n",
            "Epoch 42/50\n",
            "1/1 [==============================] - 14s 14s/step - loss: 0.7454 - accuracy: 0.7050 - val_loss: 1.1687 - val_accuracy: 0.5800\n",
            "Epoch 43/50\n",
            "1/1 [==============================] - 15s 15s/step - loss: 0.7282 - accuracy: 0.6875 - val_loss: 1.1945 - val_accuracy: 0.5750\n",
            "Epoch 44/50\n",
            "1/1 [==============================] - 14s 14s/step - loss: 0.7233 - accuracy: 0.6938 - val_loss: 1.1629 - val_accuracy: 0.5950\n",
            "Epoch 45/50\n",
            "1/1 [==============================] - 15s 15s/step - loss: 0.7014 - accuracy: 0.7262 - val_loss: 1.1469 - val_accuracy: 0.5950\n",
            "Epoch 46/50\n",
            "1/1 [==============================] - 15s 15s/step - loss: 0.6941 - accuracy: 0.7287 - val_loss: 1.1615 - val_accuracy: 0.5950\n",
            "Epoch 47/50\n",
            "1/1 [==============================] - 14s 14s/step - loss: 0.6778 - accuracy: 0.7325 - val_loss: 1.2031 - val_accuracy: 0.5850\n",
            "Epoch 48/50\n",
            "1/1 [==============================] - 15s 15s/step - loss: 0.6680 - accuracy: 0.7250 - val_loss: 1.1879 - val_accuracy: 0.5950\n",
            "Epoch 49/50\n",
            "1/1 [==============================] - 14s 14s/step - loss: 0.6495 - accuracy: 0.7500 - val_loss: 1.1650 - val_accuracy: 0.5850\n",
            "Epoch 50/50\n",
            "1/1 [==============================] - 17s 17s/step - loss: 0.6456 - accuracy: 0.7550 - val_loss: 1.2087 - val_accuracy: 0.5700\n"
          ]
        },
        {
          "output_type": "display_data",
          "data": {
            "text/plain": [
              "<Figure size 640x480 with 1 Axes>"
            ],
            "image/png": "[encoded data removed]"
          },
          "metadata": {}
        }
      ]
    },
    {
      "cell_type": "code",
      "source": [
        "cnn_model.evaluate(x_test,y_test)"
      ],
      "metadata": {
        "colab": {
          "base_uri": "https://localhost:8080/"
        },
        "id": "5Hlw9ojc2m5k",
        "outputId": "7b674059-ca05-4f65-a945-e24f04421d03"
      },
      "execution_count": 152,
      "outputs": [
        {
          "output_type": "stream",
          "name": "stdout",
          "text": [
            "7/7 [==============================] - 1s 109ms/step - loss: 1.2087 - accuracy: 0.5700\n"
          ]
        },
        {
          "output_type": "execute_result",
          "data": {
            "text/plain": [
              "[1.2087032794952393, 0.5699999928474426]"
            ]
          },
          "metadata": {},
          "execution_count": 152
        }
      ]
    },
    {
      "cell_type": "code",
      "source": [
        "image_sample(x_test,y_test,1)\n",
        "image_sample(x_test,y_test,50)\n",
        "image_sample(x_test,y_test,25)\n",
        "image_sample(x_test,y_test,30)"
      ],
      "metadata": {
        "colab": {
          "base_uri": "https://localhost:8080/",
          "height": 905
        },
        "id": "29ildRWH2rEw",
        "outputId": "d5f66f5d-c072-4509-ff86-f97e867702e1"
      },
      "execution_count": 153,
      "outputs": [
        {
          "output_type": "display_data",
          "data": {
            "text/plain": [
              "<Figure size 1000x200 with 1 Axes>"
            ],
            "image/png": "[encoded data removed]"
          },
          "metadata": {}
        },
        {
          "output_type": "display_data",
          "data": {
            "text/plain": [
              "<Figure size 1000x200 with 1 Axes>"
            ],
            "image/png": "[encoded data removed]"
          },
          "metadata": {}
        },
        {
          "output_type": "display_data",
          "data": {
            "text/plain": [
              "<Figure size 1000x200 with 1 Axes>"
            ],
            "image/png": "[encoded data removed]"
          },
          "metadata": {}
        },
        {
          "output_type": "display_data",
          "data": {
            "text/plain": [
              "<Figure size 1000x200 with 1 Axes>"
            ],
            "image/png": "[encoded data removed]"
          },
          "metadata": {}
        }
      ]
    },
    {
      "cell_type": "code",
      "source": [
        "y_pred = cnn_model.predict(x_test)\n",
        "y_pred[:5]\n",
        "\n"
      ],
      "metadata": {
        "colab": {
          "base_uri": "https://localhost:8080/"
        },
        "id": "yaJfAfzF2wuj",
        "outputId": "9d20b74f-d58c-4086-f69e-e3abf12b63ad"
      },
      "execution_count": 156,
      "outputs": [
        {
          "output_type": "stream",
          "name": "stdout",
          "text": [
            "7/7 [==============================] - 1s 108ms/step\n"
          ]
        },
        {
          "output_type": "execute_result",
          "data": {
            "text/plain": [
              "array([[6.4382541e-01, 1.0767850e-01, 1.8340442e-01, 1.4339020e-02,\n",
              "        5.0752591e-02],\n",
              "       [1.0054404e-01, 8.4770907e-04, 5.2597397e-03, 1.5304518e-03,\n",
              "        8.9181805e-01],\n",
              "       [4.6289051e-03, 2.8465427e-05, 8.2058061e-05, 2.9493414e-05,\n",
              "        9.9523103e-01],\n",
              "       [4.3754953e-01, 3.8844180e-05, 2.1316293e-03, 2.0836882e-04,\n",
              "        5.6007153e-01],\n",
              "       [6.4314330e-01, 1.2729296e-01, 1.5778694e-01, 1.1761581e-02,\n",
              "        6.0015216e-02]], dtype=float32)"
            ]
          },
          "metadata": {},
          "execution_count": 156
        }
      ]
    },
    {
      "cell_type": "code",
      "source": [
        "y_classes = [np.argmax(element) for element in y_pred]\n",
        "y_classes[:5]\n"
      ],
      "metadata": {
        "colab": {
          "base_uri": "https://localhost:8080/"
        },
        "id": "EQjAxulP291n",
        "outputId": "29a9e6d0-d940-43a4-f862-c3d8669a8465"
      },
      "execution_count": 157,
      "outputs": [
        {
          "output_type": "execute_result",
          "data": {
            "text/plain": [
              "[0, 4, 4, 4, 0]"
            ]
          },
          "metadata": {},
          "execution_count": 157
        }
      ]
    },
    {
      "cell_type": "code",
      "source": [
        "y_test[:5]"
      ],
      "metadata": {
        "colab": {
          "base_uri": "https://localhost:8080/"
        },
        "id": "W5QzcbgL2_ky",
        "outputId": "03d25468-adba-4f12-93b2-f15e7d2e806e"
      },
      "execution_count": 158,
      "outputs": [
        {
          "output_type": "execute_result",
          "data": {
            "text/plain": [
              "array([0, 4, 4, 4, 0])"
            ]
          },
          "metadata": {},
          "execution_count": 158
        }
      ]
    },
    {
      "cell_type": "code",
      "source": [
        "image_sample(x_test,y_test,20) #actual\n",
        "image_classes[y_classes[20]] #predicted"
      ],
      "metadata": {
        "colab": {
          "base_uri": "https://localhost:8080/",
          "height": 257
        },
        "id": "6w8R4lIF3Elv",
        "outputId": "7b8f6482-5c3f-434a-dbe5-4d644621edd9"
      },
      "execution_count": 161,
      "outputs": [
        {
          "output_type": "execute_result",
          "data": {
            "text/plain": [
              "'pie'"
            ],
            "application/vnd.google.colaboratory.intrinsic+json": {
              "type": "string"
            }
          },
          "metadata": {},
          "execution_count": 161
        },
        {
          "output_type": "display_data",
          "data": {
            "text/plain": [
              "<Figure size 1000x200 with 1 Axes>"
            ],
            "image/png": "[encoded data removed]"
          },
          "metadata": {}
        }
      ]
    },
    {
      "cell_type": "code",
      "source": [
        "print(\"classification report: \\n\", classification_report(y_test,y_classes))"
      ],
      "metadata": {
        "colab": {
          "base_uri": "https://localhost:8080/"
        },
        "id": "J6Q3o2Pp3Rql",
        "outputId": "e455c894-99eb-4267-97c5-991a14eb7c35"
      },
      "execution_count": 162,
      "outputs": [
        {
          "output_type": "stream",
          "name": "stdout",
          "text": [
            "classification report: \n",
            "               precision    recall  f1-score   support\n",
            "\n",
            "           0       0.42      0.68      0.52        37\n",
            "           1       0.88      0.52      0.66        44\n",
            "           2       0.69      0.46      0.55        48\n",
            "           3       0.43      0.55      0.48        33\n",
            "           4       0.65      0.68      0.67        38\n",
            "\n",
            "    accuracy                           0.57       200\n",
            "   macro avg       0.61      0.58      0.57       200\n",
            "weighted avg       0.63      0.57      0.58       200\n",
            "\n"
          ]
        }
      ]
    },
    {
      "cell_type": "code",
      "source": [
        "from tensorflow.keras.applications import VGG16\n",
        "from tensorflow.keras.preprocessing.image import ImageDataGenerator\n",
        "# Load the pre-trained model\n",
        "vgg16_model = VGG16(weights='imagenet', include_top=False, input_shape=(224, 224, 3))\n"
      ],
      "metadata": {
        "colab": {
          "base_uri": "https://localhost:8080/"
        },
        "id": "CcoEbyZa3gk7",
        "outputId": "045720d3-482d-4c3f-bd1b-9c6b9fda58af"
      },
      "execution_count": 164,
      "outputs": [
        {
          "output_type": "stream",
          "name": "stdout",
          "text": [
            "Downloading data from https://storage.googleapis.com/tensorflow/keras-applications/vgg16/vgg16_weights_tf_dim_ordering_tf_kernels_notop.h5\n",
            "58889256/58889256 [==============================] - 1s 0us/step\n"
          ]
        }
      ]
    },
    {
      "cell_type": "code",
      "source": [
        "x = vgg16_model.output\n",
        "x = GlobalAveragePooling2D()(x)\n",
        "x = Dense(128, activation='relu')(x)\n",
        "predictions = Dense(5, activation='softmax')(x)\n",
        "pt_model = tf.keras.Model(inputs=vgg16_model.input, outputs=predictions)\n"
      ],
      "metadata": {
        "id": "urmRwpOq3paK"
      },
      "execution_count": 165,
      "outputs": []
    },
    {
      "cell_type": "code",
      "source": [
        "for layer in pt_model.layers:\n",
        " layer.trainable = False\n"
      ],
      "metadata": {
        "id": "EeNDe_Kg3sKb"
      },
      "execution_count": 166,
      "outputs": []
    },
    {
      "cell_type": "code",
      "source": [
        "pt_model.compile(loss='categorical_crossentropy', optimizer='adam', metrics=['accuracy'])\n"
      ],
      "metadata": {
        "id": "M7_yG54e3vLq"
      },
      "execution_count": 167,
      "outputs": []
    },
    {
      "cell_type": "code",
      "source": [
        "pt_model.summary()"
      ],
      "metadata": {
        "colab": {
          "base_uri": "https://localhost:8080/"
        },
        "id": "_thKamp83zKV",
        "outputId": "96c5ad2b-3e79-46bf-e19e-f052f5ea6530"
      },
      "execution_count": 168,
      "outputs": [
        {
          "output_type": "stream",
          "name": "stdout",
          "text": [
            "Model: \"model\"\n",
            "_________________________________________________________________\n",
            " Layer (type)                Output Shape              Param #   \n",
            "=================================================================\n",
            " input_1 (InputLayer)        [(None, 224, 224, 3)]     0         \n",
            "                                                                 \n",
            " block1_conv1 (Conv2D)       (None, 224, 224, 64)      1792      \n",
            "                                                                 \n",
            " block1_conv2 (Conv2D)       (None, 224, 224, 64)      36928     \n",
            "                                                                 \n",
            " block1_pool (MaxPooling2D)  (None, 112, 112, 64)      0         \n",
            "                                                                 \n",
            " block2_conv1 (Conv2D)       (None, 112, 112, 128)     73856     \n",
            "                                                                 \n",
            " block2_conv2 (Conv2D)       (None, 112, 112, 128)     147584    \n",
            "                                                                 \n",
            " block2_pool (MaxPooling2D)  (None, 56, 56, 128)       0         \n",
            "                                                                 \n",
            " block3_conv1 (Conv2D)       (None, 56, 56, 256)       295168    \n",
            "                                                                 \n",
            " block3_conv2 (Conv2D)       (None, 56, 56, 256)       590080    \n",
            "                                                                 \n",
            " block3_conv3 (Conv2D)       (None, 56, 56, 256)       590080    \n",
            "                                                                 \n",
            " block3_pool (MaxPooling2D)  (None, 28, 28, 256)       0         \n",
            "                                                                 \n",
            " block4_conv1 (Conv2D)       (None, 28, 28, 512)       1180160   \n",
            "                                                                 \n",
            " block4_conv2 (Conv2D)       (None, 28, 28, 512)       2359808   \n",
            "                                                                 \n",
            " block4_conv3 (Conv2D)       (None, 28, 28, 512)       2359808   \n",
            "                                                                 \n",
            " block4_pool (MaxPooling2D)  (None, 14, 14, 512)       0         \n",
            "                                                                 \n",
            " block5_conv1 (Conv2D)       (None, 14, 14, 512)       2359808   \n",
            "                                                                 \n",
            " block5_conv2 (Conv2D)       (None, 14, 14, 512)       2359808   \n",
            "                                                                 \n",
            " block5_conv3 (Conv2D)       (None, 14, 14, 512)       2359808   \n",
            "                                                                 \n",
            " block5_pool (MaxPooling2D)  (None, 7, 7, 512)         0         \n",
            "                                                                 \n",
            " global_average_pooling2d_3   (None, 512)              0         \n",
            " (GlobalAveragePooling2D)                                        \n",
            "                                                                 \n",
            " dense_26 (Dense)            (None, 128)               65664     \n",
            "                                                                 \n",
            " dense_27 (Dense)            (None, 5)                 645       \n",
            "                                                                 \n",
            "=================================================================\n",
            "Total params: 14,780,997\n",
            "Trainable params: 0\n",
            "Non-trainable params: 14,780,997\n",
            "_________________________________________________________________\n"
          ]
        }
      ]
    },
    {
      "cell_type": "code",
      "source": [
        "from keras.models import Sequential\n",
        "from keras.layers import Conv2D, MaxPooling2D, ZeroPadding2D\n",
        "from keras.layers import Dense, Dropout, Flatten"
      ],
      "metadata": {
        "id": "Bc7oG4U7ALkm"
      },
      "execution_count": 172,
      "outputs": []
    },
    {
      "cell_type": "code",
      "source": [
        "# Create AlexNet model\n",
        "model = Sequential()\n"
      ],
      "metadata": {
        "id": "k1dXs6ZT_-A6"
      },
      "execution_count": 173,
      "outputs": []
    },
    {
      "cell_type": "code",
      "source": [
        "# Layer 1: Convolutional Layer with ReLU activation, and max pooling\n",
        "model.add(Conv2D(filters=96, kernel_size=(11,11), strides=(4,4), activation='relu', input_shape=(224,224,3)))\n",
        "model.add(MaxPooling2D(pool_size=(3,3), strides=(2,2)))\n",
        "model.add(ZeroPadding2D((2,2)))"
      ],
      "metadata": {
        "id": "nKoCVbdCAzFl"
      },
      "execution_count": 174,
      "outputs": []
    },
    {
      "cell_type": "code",
      "source": [
        "# Layer 2: Convolutional Layer with ReLU activation, and max pooling\n",
        "model.add(Conv2D(filters=256, kernel_size=(5,5), strides=(1,1), activation='relu'))\n",
        "model.add(MaxPooling2D(pool_size=(3,3), strides=(2,2)))\n",
        "model.add(ZeroPadding2D((1,1)))\n",
        "\n",
        "# Layer 3: Convolutional Layer with ReLU activation\n",
        "model.add(Conv2D(filters=384, kernel_size=(3,3), strides=(1,1), activation='relu'))\n",
        "model.add(ZeroPadding2D((1,1)))\n",
        "\n",
        "# Layer 4: Convolutional Layer with ReLU activation\n",
        "model.add(Conv2D(filters=384, kernel_size=(3,3), strides=(1,1), activation='relu'))\n",
        "model.add(ZeroPadding2D((1,1)))\n",
        "\n",
        "# Layer 5: Convolutional Layer with ReLU activation, and max pooling\n",
        "model.add(Conv2D(filters=256, kernel_size=(3,3), strides=(1,1), activation='relu'))\n",
        "model.add(MaxPooling2D(pool_size=(3,3), strides=(2,2)))\n",
        "model.add(ZeroPadding2D((1,1)))\n",
        "\n",
        "# Layer 6: Flatten layer\n",
        "model.add(Flatten())\n",
        "\n",
        "# Layer 7: Fully Connected Layer with ReLU activation\n",
        "model.add(Dense(4096, activation='relu'))\n",
        "model.add(Dropout(0.5))\n",
        "\n",
        "# Layer 8: Fully Connected Layer with ReLU activation\n",
        "model.add(Dense(4096, activation='relu'))\n",
        "model.add(Dropout(0.5))\n",
        "\n",
        "# Layer 9: Output layer with softmax activation\n",
        "model.add(Dense(1000, activation='softmax'))"
      ],
      "metadata": {
        "id": "X-sx4SQsA0IF"
      },
      "execution_count": 175,
      "outputs": []
    },
    {
      "cell_type": "code",
      "source": [
        "# Compile model\n",
        "model.compile(loss='categorical_crossentropy', optimizer='sgd', metrics=['accuracy'])"
      ],
      "metadata": {
        "id": "nD1FHCruA9oF"
      },
      "execution_count": 176,
      "outputs": []
    },
    {
      "cell_type": "code",
      "source": [
        "\n",
        "from keras.models import Sequential\n",
        "from keras.layers import Conv2D, MaxPooling2D, ZeroPadding2D\n",
        "from keras.layers import Dense, Dropout, Flatten\n",
        "\n"
      ],
      "metadata": {
        "id": "9A0FC3WlBXwx"
      },
      "execution_count": 191,
      "outputs": []
    },
    {
      "cell_type": "code",
      "source": [
        "# Create AlexNet model\n",
        "model = Sequential()\n",
        "\n",
        "# Layer 1: Convolutional Layer with ReLU activation, and max pooling\n",
        "model.add(Conv2D(filters=96, kernel_size=(11,11), strides=(4,4), activation='relu', input_shape=(224,224,3)))\n",
        "model.add(MaxPooling2D(pool_size=(3,3), strides=(2,2)))\n",
        "model.add(ZeroPadding2D((2,2)))\n",
        "\n",
        "# Layer 2: Convolutional Layer with ReLU activation, and max pooling\n",
        "model.add(Conv2D(filters=256, kernel_size=(5,5), strides=(1,1), activation='relu'))\n",
        "model.add(MaxPooling2D(pool_size=(3,3), strides=(2,2)))\n",
        "model.add(ZeroPadding2D((1,1)))\n",
        "\n",
        "# Layer 3: Convolutional Layer with ReLU activation\n",
        "model.add(Conv2D(filters=384, kernel_size=(3,3), strides=(1,1), activation='relu'))\n",
        "model.add(ZeroPadding2D((1,1)))\n",
        "\n",
        "# Layer 4: Convolutional Layer with ReLU activation\n",
        "model.add(Conv2D(filters=384, kernel_size=(3,3), strides=(1,1), activation='relu'))\n",
        "model.add(ZeroPadding2D((1,1)))\n",
        "\n",
        "# Layer 5: Convolutional Layer with ReLU activation, and max pooling\n",
        "model.add(Conv2D(filters=256, kernel_size=(3,3), strides=(1,1), activation='relu'))\n",
        "model.add(MaxPooling2D(pool_size=(3,3), strides=(2,2)))\n",
        "model.add(ZeroPadding2D((1,1)))\n",
        "\n",
        "# Layer 6: Flatten layer\n",
        "model.add(Flatten())\n",
        "\n",
        "# Layer 7: Fully Connected Layer with ReLU activation\n",
        "model.add(Dense(4096, activation='relu'))\n",
        "model.add(Dropout(0.5))\n",
        "\n",
        "# Layer 8: Fully Connected Layer with ReLU activation\n",
        "model.add(Dense(4096, activation='relu'))\n",
        "model.add(Dropout(0.5))\n",
        "\n",
        "# Layer 9: Output layer with softmax activation\n",
        "model.add(Dense(1000, activation='softmax'))\n",
        "\n",
        "# Compile model\n",
        "model.compile(loss='categorical_crossentropy', optimizer='sgd', metrics=['accuracy'])"
      ],
      "metadata": {
        "id": "V44MK9X4B1Na"
      },
      "execution_count": 192,
      "outputs": []
    }
  ]
}